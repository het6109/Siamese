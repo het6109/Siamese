{
 "cells": [
  {
   "cell_type": "code",
   "execution_count": null,
   "metadata": {
    "colab": {
     "base_uri": "https://localhost:8080/",
     "height": 53
    },
    "id": "htt4tEiXiZEf",
    "outputId": "208cd418-040f-4d2f-bc4f-df9d19539471"
   },
   "outputs": [],
   "source": [
    "from google.colab import drive\n",
    "drive.mount('/content/drive')\n",
    "\n",
    "import shutil\n",
    "\n",
    "# Source folder path in Google Drive\n",
    "source_folder = '/content/drive/My Drive/car'\n",
    "\n",
    "# Destination folder path in Colab environment\n",
    "destination_folder = '/content/car'\n",
    "\n",
    "# Copy the folder\n",
    "shutil.copytree(source_folder, destination_folder)"
   ]
  },
  {
   "cell_type": "code",
   "execution_count": null,
   "metadata": {
    "colab": {
     "base_uri": "https://localhost:8080/"
    },
    "id": "AnVERuOhicwM",
    "outputId": "68a17895-cb8c-44fd-a080-227539c363af"
   },
   "outputs": [],
   "source": [
    "!pip install ultralytics\n",
    "from IPython import display\n",
    "display.clear_output()\n",
    "from IPython.display import display, Image\n",
    "\n",
    "import ultralytics\n",
    "ultralytics.checks()\n",
    "from ultralytics import YOLO"
   ]
  },
  {
   "cell_type": "code",
   "execution_count": null,
   "metadata": {
    "colab": {
     "base_uri": "https://localhost:8080/"
    },
    "id": "WXSTWR9jjw1S",
    "outputId": "87c1983e-a4e3-47e5-d30b-c404ba464966"
   },
   "outputs": [],
   "source": [
    "!yolo task=detect mode=train model=yolov8s.pt data=/content/car/data.yaml epochs=10 imgsz=640 batch=15"
   ]
  },
  {
   "cell_type": "code",
   "execution_count": null,
   "metadata": {
    "colab": {
     "base_uri": "https://localhost:8080/"
    },
    "id": "MHLLoF5lj3th",
    "outputId": "e6337708-c32a-431d-a07f-8b50e200b86f"
   },
   "outputs": [],
   "source": [
    "!yolo task=detect mode=val model=/content/runs/detect/train/weights/best.pt data=/content/car/data.yaml"
   ]
  },
  {
   "cell_type": "code",
   "execution_count": null,
   "metadata": {
    "colab": {
     "base_uri": "https://localhost:8080/"
    },
    "id": "8dj8cxwjkEw8",
    "outputId": "88ac9369-d018-481f-9b1b-4a078a8b9a97"
   },
   "outputs": [],
   "source": [
    "!yolo task=detect mode=predict model=/content/runs/detect/train/weights/best.pt conf=0.5 source=/content/car/test/images save=true"
   ]
  },
  {
   "cell_type": "code",
   "execution_count": null,
   "metadata": {
    "colab": {
     "base_uri": "https://localhost:8080/",
     "height": 1000
    },
    "id": "jSGg9vR5m1q4",
    "outputId": "ad74f20d-b6b8-4ca9-c67c-0cd88682388a"
   },
   "outputs": [],
   "source": [
    "import glob\n",
    "from IPython.display import Image, display\n",
    "\n",
    "for image_path in glob.glob(f'/content/runs/detect/predict/*.jpg'):\n",
    "      display(Image(filename=image_path, height=640))\n",
    "      print(\"\\n\")"
   ]
  },
  {
   "cell_type": "code",
   "execution_count": null,
   "metadata": {
    "colab": {
     "base_uri": "https://localhost:8080/",
     "height": 337
    },
    "id": "MPUu6EE9m6Ff",
    "outputId": "d6becd4e-7c8c-4077-c3ce-d6d43d40f8bb"
   },
   "outputs": [],
   "source": [
    "Image(filename=f'/content/runs/detect/train/results.png', width=640)"
   ]
  },
  {
   "cell_type": "code",
   "execution_count": null,
   "metadata": {
    "colab": {
     "base_uri": "https://localhost:8080/",
     "height": 497
    },
    "id": "pKrQJUAam86W",
    "outputId": "60729b60-468b-4396-856f-59c3cb05fa76"
   },
   "outputs": [],
   "source": [
    "Image(filename=f'/content/runs/detect/train/confusion_matrix.png', width=640)"
   ]
  },
  {
   "cell_type": "code",
   "execution_count": null,
   "metadata": {
    "id": "T-0-0L4QoPjo"
   },
   "outputs": [],
   "source": []
  }
 ],
 "metadata": {
  "accelerator": "GPU",
  "colab": {
   "gpuType": "T4",
   "provenance": []
  },
  "kernelspec": {
   "display_name": "Python 3 (ipykernel)",
   "language": "python",
   "name": "python3"
  },
  "language_info": {
   "codemirror_mode": {
    "name": "ipython",
    "version": 3
   },
   "file_extension": ".py",
   "mimetype": "text/x-python",
   "name": "python",
   "nbconvert_exporter": "python",
   "pygments_lexer": "ipython3",
   "version": "3.11.5"
  }
 },
 "nbformat": 4,
 "nbformat_minor": 1
}
