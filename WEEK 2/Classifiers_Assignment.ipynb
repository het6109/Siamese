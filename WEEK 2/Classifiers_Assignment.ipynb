{
  "nbformat": 4,
  "nbformat_minor": 0,
  "metadata": {
    "colab": {
      "provenance": [],
      "include_colab_link": true
    },
    "kernelspec": {
      "name": "python3",
      "display_name": "Python 3"
    },
    "language_info": {
      "name": "python"
    }
  },
  "cells": [
    {
      "cell_type": "markdown",
      "metadata": {
        "id": "view-in-github",
        "colab_type": "text"
      },
      "source": [
        "<a href=\"https://colab.research.google.com/github/het6109/Siamese_NN_Wids/blob/main/Classifiers_Assignment.ipynb\" target=\"_parent\"><img src=\"https://colab.research.google.com/assets/colab-badge.svg\" alt=\"Open In Colab\"/></a>"
      ]
    },
    {
      "cell_type": "markdown",
      "source": [
        "#WELCOME\n",
        "In this Assignment, you'll use **Classifier** to predict the output. You are allowed to write/edit between the\n",
        "```# START CODE HERE``` & ```# END CODE HERE``` only.<br>\n",
        "Don't edit the test cells otherwise you'd be failed in the assignment.\n",
        "\n",
        "Upload the ```utils.zip``` file before running the 1st cell.\n",
        "[Demo](https://drive.google.com/file/d/1ebkQR6ikjGottmxa5KL83ZWdjTLvRxbm/view?usp=share_link)\n",
        "\n",
        "**BEST OF LUCK**"
      ],
      "metadata": {
        "id": "HJM8Y9mh5o4H"
      }
    },
    {
      "cell_type": "markdown",
      "source": [
        "**RUN THIS CODE TO UNIZP THE REQUIRED FILES**"
      ],
      "metadata": {
        "id": "cEl-4aFCkdsB"
      }
    },
    {
      "cell_type": "code",
      "source": [
        "!unzip -j /content/utils.zip -d."
      ],
      "metadata": {
        "id": "mCdV1dV8kawl",
        "outputId": "64abb4d4-7f3a-48a4-ea9a-f408ad6350ff",
        "colab": {
          "base_uri": "https://localhost:8080/"
        }
      },
      "execution_count": 3,
      "outputs": [
        {
          "output_type": "stream",
          "name": "stdout",
          "text": [
            "Archive:  /content/utils.zip\n",
            "  inflating: ./weather_classification_data.csv  \n",
            "  inflating: ./data_scaled_labeled_check.csv  \n"
          ]
        }
      ]
    },
    {
      "cell_type": "markdown",
      "source": [
        "# Dataset Loading and Pre-Processing"
      ],
      "metadata": {
        "id": "VA4ZUSGu0Ox3"
      }
    },
    {
      "cell_type": "code",
      "source": [
        "import pandas as pd\n",
        "data = pd.read_csv(\"/content/weather_classification_data.csv\")"
      ],
      "metadata": {
        "id": "_tP5JsNsqBsI"
      },
      "execution_count": 40,
      "outputs": []
    },
    {
      "cell_type": "markdown",
      "source": [
        "## Data Info\n",
        "```data.info``` gives info about data-types and number of null objects.  \n",
        "There are no null data, no need to remove any."
      ],
      "metadata": {
        "id": "MBHkfY1c0gO6"
      }
    },
    {
      "cell_type": "code",
      "source": [
        "data.info()"
      ],
      "metadata": {
        "id": "O-myJ9LmqG8J",
        "outputId": "76d70bd9-3b70-4e23-87c4-f160203a92d1",
        "colab": {
          "base_uri": "https://localhost:8080/"
        }
      },
      "execution_count": 41,
      "outputs": [
        {
          "output_type": "stream",
          "name": "stdout",
          "text": [
            "<class 'pandas.core.frame.DataFrame'>\n",
            "RangeIndex: 13200 entries, 0 to 13199\n",
            "Data columns (total 11 columns):\n",
            " #   Column                Non-Null Count  Dtype  \n",
            "---  ------                --------------  -----  \n",
            " 0   Temperature           13200 non-null  float64\n",
            " 1   Humidity              13200 non-null  int64  \n",
            " 2   Wind Speed            13200 non-null  float64\n",
            " 3   Precipitation (%)     13200 non-null  float64\n",
            " 4   Cloud Cover           13200 non-null  object \n",
            " 5   Atmospheric Pressure  13200 non-null  float64\n",
            " 6   UV Index              13200 non-null  int64  \n",
            " 7   Season                13200 non-null  object \n",
            " 8   Visibility (km)       13200 non-null  float64\n",
            " 9   Location              13200 non-null  object \n",
            " 10  Weather Type          13200 non-null  object \n",
            "dtypes: float64(5), int64(2), object(4)\n",
            "memory usage: 1.1+ MB\n"
          ]
        }
      ]
    },
    {
      "cell_type": "markdown",
      "source": [
        "## Data Shuffling\n",
        "Data Shuffling removes any bias present and creates uniform distribution."
      ],
      "metadata": {
        "id": "98kT9K8a1LF9"
      }
    },
    {
      "cell_type": "code",
      "source": [
        "from sklearn.utils import shuffle\n",
        "data = shuffle(data)\n",
        "data.head()"
      ],
      "metadata": {
        "id": "DJ6bkcTbz8kP",
        "outputId": "fbd69488-2623-47f3-df1f-00e3367295ac",
        "colab": {
          "base_uri": "https://localhost:8080/",
          "height": 206
        }
      },
      "execution_count": 42,
      "outputs": [
        {
          "output_type": "execute_result",
          "data": {
            "text/plain": [
              "       Temperature  Humidity  Wind Speed  Precipitation (%)    Cloud Cover  \\\n",
              "10408          0.0        91         2.0               77.0       overcast   \n",
              "12426         45.0        49         2.0               79.0  partly cloudy   \n",
              "12237          1.0        95         6.0               77.0       overcast   \n",
              "11236         45.0        82        18.0               79.0       overcast   \n",
              "10092          0.0        90        15.5               58.0  partly cloudy   \n",
              "\n",
              "       Atmospheric Pressure  UV Index  Season  Visibility (km)  Location  \\\n",
              "10408                989.54         1  Winter              4.5    inland   \n",
              "12426                810.56         3  Summer              0.5   coastal   \n",
              "12237                985.54        12  Winter              1.0  mountain   \n",
              "11236               1012.32         7  Autumn              0.5  mountain   \n",
              "10092                990.74         0  Winter              3.0  mountain   \n",
              "\n",
              "      Weather Type  \n",
              "10408        Snowy  \n",
              "12426        Snowy  \n",
              "12237        Snowy  \n",
              "11236        Rainy  \n",
              "10092        Snowy  "
            ],
            "text/html": [
              "\n",
              "  <div id=\"df-3a9d2750-b7fc-4f50-8917-60afc1d4be0c\" class=\"colab-df-container\">\n",
              "    <div>\n",
              "<style scoped>\n",
              "    .dataframe tbody tr th:only-of-type {\n",
              "        vertical-align: middle;\n",
              "    }\n",
              "\n",
              "    .dataframe tbody tr th {\n",
              "        vertical-align: top;\n",
              "    }\n",
              "\n",
              "    .dataframe thead th {\n",
              "        text-align: right;\n",
              "    }\n",
              "</style>\n",
              "<table border=\"1\" class=\"dataframe\">\n",
              "  <thead>\n",
              "    <tr style=\"text-align: right;\">\n",
              "      <th></th>\n",
              "      <th>Temperature</th>\n",
              "      <th>Humidity</th>\n",
              "      <th>Wind Speed</th>\n",
              "      <th>Precipitation (%)</th>\n",
              "      <th>Cloud Cover</th>\n",
              "      <th>Atmospheric Pressure</th>\n",
              "      <th>UV Index</th>\n",
              "      <th>Season</th>\n",
              "      <th>Visibility (km)</th>\n",
              "      <th>Location</th>\n",
              "      <th>Weather Type</th>\n",
              "    </tr>\n",
              "  </thead>\n",
              "  <tbody>\n",
              "    <tr>\n",
              "      <th>10408</th>\n",
              "      <td>0.0</td>\n",
              "      <td>91</td>\n",
              "      <td>2.0</td>\n",
              "      <td>77.0</td>\n",
              "      <td>overcast</td>\n",
              "      <td>989.54</td>\n",
              "      <td>1</td>\n",
              "      <td>Winter</td>\n",
              "      <td>4.5</td>\n",
              "      <td>inland</td>\n",
              "      <td>Snowy</td>\n",
              "    </tr>\n",
              "    <tr>\n",
              "      <th>12426</th>\n",
              "      <td>45.0</td>\n",
              "      <td>49</td>\n",
              "      <td>2.0</td>\n",
              "      <td>79.0</td>\n",
              "      <td>partly cloudy</td>\n",
              "      <td>810.56</td>\n",
              "      <td>3</td>\n",
              "      <td>Summer</td>\n",
              "      <td>0.5</td>\n",
              "      <td>coastal</td>\n",
              "      <td>Snowy</td>\n",
              "    </tr>\n",
              "    <tr>\n",
              "      <th>12237</th>\n",
              "      <td>1.0</td>\n",
              "      <td>95</td>\n",
              "      <td>6.0</td>\n",
              "      <td>77.0</td>\n",
              "      <td>overcast</td>\n",
              "      <td>985.54</td>\n",
              "      <td>12</td>\n",
              "      <td>Winter</td>\n",
              "      <td>1.0</td>\n",
              "      <td>mountain</td>\n",
              "      <td>Snowy</td>\n",
              "    </tr>\n",
              "    <tr>\n",
              "      <th>11236</th>\n",
              "      <td>45.0</td>\n",
              "      <td>82</td>\n",
              "      <td>18.0</td>\n",
              "      <td>79.0</td>\n",
              "      <td>overcast</td>\n",
              "      <td>1012.32</td>\n",
              "      <td>7</td>\n",
              "      <td>Autumn</td>\n",
              "      <td>0.5</td>\n",
              "      <td>mountain</td>\n",
              "      <td>Rainy</td>\n",
              "    </tr>\n",
              "    <tr>\n",
              "      <th>10092</th>\n",
              "      <td>0.0</td>\n",
              "      <td>90</td>\n",
              "      <td>15.5</td>\n",
              "      <td>58.0</td>\n",
              "      <td>partly cloudy</td>\n",
              "      <td>990.74</td>\n",
              "      <td>0</td>\n",
              "      <td>Winter</td>\n",
              "      <td>3.0</td>\n",
              "      <td>mountain</td>\n",
              "      <td>Snowy</td>\n",
              "    </tr>\n",
              "  </tbody>\n",
              "</table>\n",
              "</div>\n",
              "    <div class=\"colab-df-buttons\">\n",
              "\n",
              "  <div class=\"colab-df-container\">\n",
              "    <button class=\"colab-df-convert\" onclick=\"convertToInteractive('df-3a9d2750-b7fc-4f50-8917-60afc1d4be0c')\"\n",
              "            title=\"Convert this dataframe to an interactive table.\"\n",
              "            style=\"display:none;\">\n",
              "\n",
              "  <svg xmlns=\"http://www.w3.org/2000/svg\" height=\"24px\" viewBox=\"0 -960 960 960\">\n",
              "    <path d=\"M120-120v-720h720v720H120Zm60-500h600v-160H180v160Zm220 220h160v-160H400v160Zm0 220h160v-160H400v160ZM180-400h160v-160H180v160Zm440 0h160v-160H620v160ZM180-180h160v-160H180v160Zm440 0h160v-160H620v160Z\"/>\n",
              "  </svg>\n",
              "    </button>\n",
              "\n",
              "  <style>\n",
              "    .colab-df-container {\n",
              "      display:flex;\n",
              "      gap: 12px;\n",
              "    }\n",
              "\n",
              "    .colab-df-convert {\n",
              "      background-color: #E8F0FE;\n",
              "      border: none;\n",
              "      border-radius: 50%;\n",
              "      cursor: pointer;\n",
              "      display: none;\n",
              "      fill: #1967D2;\n",
              "      height: 32px;\n",
              "      padding: 0 0 0 0;\n",
              "      width: 32px;\n",
              "    }\n",
              "\n",
              "    .colab-df-convert:hover {\n",
              "      background-color: #E2EBFA;\n",
              "      box-shadow: 0px 1px 2px rgba(60, 64, 67, 0.3), 0px 1px 3px 1px rgba(60, 64, 67, 0.15);\n",
              "      fill: #174EA6;\n",
              "    }\n",
              "\n",
              "    .colab-df-buttons div {\n",
              "      margin-bottom: 4px;\n",
              "    }\n",
              "\n",
              "    [theme=dark] .colab-df-convert {\n",
              "      background-color: #3B4455;\n",
              "      fill: #D2E3FC;\n",
              "    }\n",
              "\n",
              "    [theme=dark] .colab-df-convert:hover {\n",
              "      background-color: #434B5C;\n",
              "      box-shadow: 0px 1px 3px 1px rgba(0, 0, 0, 0.15);\n",
              "      filter: drop-shadow(0px 1px 2px rgba(0, 0, 0, 0.3));\n",
              "      fill: #FFFFFF;\n",
              "    }\n",
              "  </style>\n",
              "\n",
              "    <script>\n",
              "      const buttonEl =\n",
              "        document.querySelector('#df-3a9d2750-b7fc-4f50-8917-60afc1d4be0c button.colab-df-convert');\n",
              "      buttonEl.style.display =\n",
              "        google.colab.kernel.accessAllowed ? 'block' : 'none';\n",
              "\n",
              "      async function convertToInteractive(key) {\n",
              "        const element = document.querySelector('#df-3a9d2750-b7fc-4f50-8917-60afc1d4be0c');\n",
              "        const dataTable =\n",
              "          await google.colab.kernel.invokeFunction('convertToInteractive',\n",
              "                                                    [key], {});\n",
              "        if (!dataTable) return;\n",
              "\n",
              "        const docLinkHtml = 'Like what you see? Visit the ' +\n",
              "          '<a target=\"_blank\" href=https://colab.research.google.com/notebooks/data_table.ipynb>data table notebook</a>'\n",
              "          + ' to learn more about interactive tables.';\n",
              "        element.innerHTML = '';\n",
              "        dataTable['output_type'] = 'display_data';\n",
              "        await google.colab.output.renderOutput(dataTable, element);\n",
              "        const docLink = document.createElement('div');\n",
              "        docLink.innerHTML = docLinkHtml;\n",
              "        element.appendChild(docLink);\n",
              "      }\n",
              "    </script>\n",
              "  </div>\n",
              "\n",
              "\n",
              "<div id=\"df-2c8349a3-1b65-48fc-8134-66c5be3e35bf\">\n",
              "  <button class=\"colab-df-quickchart\" onclick=\"quickchart('df-2c8349a3-1b65-48fc-8134-66c5be3e35bf')\"\n",
              "            title=\"Suggest charts\"\n",
              "            style=\"display:none;\">\n",
              "\n",
              "<svg xmlns=\"http://www.w3.org/2000/svg\" height=\"24px\"viewBox=\"0 0 24 24\"\n",
              "     width=\"24px\">\n",
              "    <g>\n",
              "        <path d=\"M19 3H5c-1.1 0-2 .9-2 2v14c0 1.1.9 2 2 2h14c1.1 0 2-.9 2-2V5c0-1.1-.9-2-2-2zM9 17H7v-7h2v7zm4 0h-2V7h2v10zm4 0h-2v-4h2v4z\"/>\n",
              "    </g>\n",
              "</svg>\n",
              "  </button>\n",
              "\n",
              "<style>\n",
              "  .colab-df-quickchart {\n",
              "      --bg-color: #E8F0FE;\n",
              "      --fill-color: #1967D2;\n",
              "      --hover-bg-color: #E2EBFA;\n",
              "      --hover-fill-color: #174EA6;\n",
              "      --disabled-fill-color: #AAA;\n",
              "      --disabled-bg-color: #DDD;\n",
              "  }\n",
              "\n",
              "  [theme=dark] .colab-df-quickchart {\n",
              "      --bg-color: #3B4455;\n",
              "      --fill-color: #D2E3FC;\n",
              "      --hover-bg-color: #434B5C;\n",
              "      --hover-fill-color: #FFFFFF;\n",
              "      --disabled-bg-color: #3B4455;\n",
              "      --disabled-fill-color: #666;\n",
              "  }\n",
              "\n",
              "  .colab-df-quickchart {\n",
              "    background-color: var(--bg-color);\n",
              "    border: none;\n",
              "    border-radius: 50%;\n",
              "    cursor: pointer;\n",
              "    display: none;\n",
              "    fill: var(--fill-color);\n",
              "    height: 32px;\n",
              "    padding: 0;\n",
              "    width: 32px;\n",
              "  }\n",
              "\n",
              "  .colab-df-quickchart:hover {\n",
              "    background-color: var(--hover-bg-color);\n",
              "    box-shadow: 0 1px 2px rgba(60, 64, 67, 0.3), 0 1px 3px 1px rgba(60, 64, 67, 0.15);\n",
              "    fill: var(--button-hover-fill-color);\n",
              "  }\n",
              "\n",
              "  .colab-df-quickchart-complete:disabled,\n",
              "  .colab-df-quickchart-complete:disabled:hover {\n",
              "    background-color: var(--disabled-bg-color);\n",
              "    fill: var(--disabled-fill-color);\n",
              "    box-shadow: none;\n",
              "  }\n",
              "\n",
              "  .colab-df-spinner {\n",
              "    border: 2px solid var(--fill-color);\n",
              "    border-color: transparent;\n",
              "    border-bottom-color: var(--fill-color);\n",
              "    animation:\n",
              "      spin 1s steps(1) infinite;\n",
              "  }\n",
              "\n",
              "  @keyframes spin {\n",
              "    0% {\n",
              "      border-color: transparent;\n",
              "      border-bottom-color: var(--fill-color);\n",
              "      border-left-color: var(--fill-color);\n",
              "    }\n",
              "    20% {\n",
              "      border-color: transparent;\n",
              "      border-left-color: var(--fill-color);\n",
              "      border-top-color: var(--fill-color);\n",
              "    }\n",
              "    30% {\n",
              "      border-color: transparent;\n",
              "      border-left-color: var(--fill-color);\n",
              "      border-top-color: var(--fill-color);\n",
              "      border-right-color: var(--fill-color);\n",
              "    }\n",
              "    40% {\n",
              "      border-color: transparent;\n",
              "      border-right-color: var(--fill-color);\n",
              "      border-top-color: var(--fill-color);\n",
              "    }\n",
              "    60% {\n",
              "      border-color: transparent;\n",
              "      border-right-color: var(--fill-color);\n",
              "    }\n",
              "    80% {\n",
              "      border-color: transparent;\n",
              "      border-right-color: var(--fill-color);\n",
              "      border-bottom-color: var(--fill-color);\n",
              "    }\n",
              "    90% {\n",
              "      border-color: transparent;\n",
              "      border-bottom-color: var(--fill-color);\n",
              "    }\n",
              "  }\n",
              "</style>\n",
              "\n",
              "  <script>\n",
              "    async function quickchart(key) {\n",
              "      const quickchartButtonEl =\n",
              "        document.querySelector('#' + key + ' button');\n",
              "      quickchartButtonEl.disabled = true;  // To prevent multiple clicks.\n",
              "      quickchartButtonEl.classList.add('colab-df-spinner');\n",
              "      try {\n",
              "        const charts = await google.colab.kernel.invokeFunction(\n",
              "            'suggestCharts', [key], {});\n",
              "      } catch (error) {\n",
              "        console.error('Error during call to suggestCharts:', error);\n",
              "      }\n",
              "      quickchartButtonEl.classList.remove('colab-df-spinner');\n",
              "      quickchartButtonEl.classList.add('colab-df-quickchart-complete');\n",
              "    }\n",
              "    (() => {\n",
              "      let quickchartButtonEl =\n",
              "        document.querySelector('#df-2c8349a3-1b65-48fc-8134-66c5be3e35bf button');\n",
              "      quickchartButtonEl.style.display =\n",
              "        google.colab.kernel.accessAllowed ? 'block' : 'none';\n",
              "    })();\n",
              "  </script>\n",
              "</div>\n",
              "\n",
              "    </div>\n",
              "  </div>\n"
            ],
            "application/vnd.google.colaboratory.intrinsic+json": {
              "type": "dataframe",
              "variable_name": "data",
              "summary": "{\n  \"name\": \"data\",\n  \"rows\": 13200,\n  \"fields\": [\n    {\n      \"column\": \"Temperature\",\n      \"properties\": {\n        \"dtype\": \"number\",\n        \"std\": 17.386326582360986,\n        \"min\": -25.0,\n        \"max\": 109.0,\n        \"num_unique_values\": 126,\n        \"samples\": [\n          47.0,\n          12.0,\n          78.0\n        ],\n        \"semantic_type\": \"\",\n        \"description\": \"\"\n      }\n    },\n    {\n      \"column\": \"Humidity\",\n      \"properties\": {\n        \"dtype\": \"number\",\n        \"std\": 20,\n        \"min\": 20,\n        \"max\": 109,\n        \"num_unique_values\": 90,\n        \"samples\": [\n          24,\n          55,\n          48\n        ],\n        \"semantic_type\": \"\",\n        \"description\": \"\"\n      }\n    },\n    {\n      \"column\": \"Wind Speed\",\n      \"properties\": {\n        \"dtype\": \"number\",\n        \"std\": 6.908704141531318,\n        \"min\": 0.0,\n        \"max\": 48.5,\n        \"num_unique_values\": 97,\n        \"samples\": [\n          33.0,\n          12.5,\n          40.5\n        ],\n        \"semantic_type\": \"\",\n        \"description\": \"\"\n      }\n    },\n    {\n      \"column\": \"Precipitation (%)\",\n      \"properties\": {\n        \"dtype\": \"number\",\n        \"std\": 31.94654076998145,\n        \"min\": 0.0,\n        \"max\": 109.0,\n        \"num_unique_values\": 110,\n        \"samples\": [\n          70.0,\n          19.0,\n          88.0\n        ],\n        \"semantic_type\": \"\",\n        \"description\": \"\"\n      }\n    },\n    {\n      \"column\": \"Cloud Cover\",\n      \"properties\": {\n        \"dtype\": \"category\",\n        \"num_unique_values\": 4,\n        \"samples\": [\n          \"partly cloudy\",\n          \"cloudy\",\n          \"overcast\"\n        ],\n        \"semantic_type\": \"\",\n        \"description\": \"\"\n      }\n    },\n    {\n      \"column\": \"Atmospheric Pressure\",\n      \"properties\": {\n        \"dtype\": \"number\",\n        \"std\": 37.19958869750334,\n        \"min\": 800.12,\n        \"max\": 1199.21,\n        \"num_unique_values\": 5456,\n        \"samples\": [\n          995.87,\n          982.37,\n          1000.44\n        ],\n        \"semantic_type\": \"\",\n        \"description\": \"\"\n      }\n    },\n    {\n      \"column\": \"UV Index\",\n      \"properties\": {\n        \"dtype\": \"number\",\n        \"std\": 3,\n        \"min\": 0,\n        \"max\": 14,\n        \"num_unique_values\": 15,\n        \"samples\": [\n          2,\n          5,\n          1\n        ],\n        \"semantic_type\": \"\",\n        \"description\": \"\"\n      }\n    },\n    {\n      \"column\": \"Season\",\n      \"properties\": {\n        \"dtype\": \"category\",\n        \"num_unique_values\": 4,\n        \"samples\": [\n          \"Summer\",\n          \"Spring\",\n          \"Winter\"\n        ],\n        \"semantic_type\": \"\",\n        \"description\": \"\"\n      }\n    },\n    {\n      \"column\": \"Visibility (km)\",\n      \"properties\": {\n        \"dtype\": \"number\",\n        \"std\": 3.3714989103539432,\n        \"min\": 0.0,\n        \"max\": 20.0,\n        \"num_unique_values\": 41,\n        \"samples\": [\n          9.5,\n          0.0,\n          18.5\n        ],\n        \"semantic_type\": \"\",\n        \"description\": \"\"\n      }\n    },\n    {\n      \"column\": \"Location\",\n      \"properties\": {\n        \"dtype\": \"category\",\n        \"num_unique_values\": 3,\n        \"samples\": [\n          \"inland\",\n          \"coastal\",\n          \"mountain\"\n        ],\n        \"semantic_type\": \"\",\n        \"description\": \"\"\n      }\n    },\n    {\n      \"column\": \"Weather Type\",\n      \"properties\": {\n        \"dtype\": \"category\",\n        \"num_unique_values\": 4,\n        \"samples\": [\n          \"Rainy\",\n          \"Cloudy\",\n          \"Snowy\"\n        ],\n        \"semantic_type\": \"\",\n        \"description\": \"\"\n      }\n    }\n  ]\n}"
            }
          },
          "metadata": {},
          "execution_count": 42
        }
      ]
    },
    {
      "cell_type": "markdown",
      "source": [
        "## Scaling and Labeling\n",
        "Machine can't understand string so all the object datatypes need to be LABELED with integers.<br><br>\n",
        "Why SCALING?<br>\n",
        "You might have noticed one column contains data with large values (of order 1000) whereas some column contain small value data (of order 10). As a result, large value columns get more power/importance than others. To remove this disparity we scaled them to same order/values."
      ],
      "metadata": {
        "id": "7vKEzz9j19WQ"
      }
    },
    {
      "cell_type": "markdown",
      "source": [
        "**CODE**\n",
        "\n",
        "We need to find the columns with object datatypes.\n",
        "\n",
        "HINT: Use ```data.select_dtypes().columns.tolist()```<br>Reference: [w3schools](https://www.w3schools.com/python/pandas/ref_df_select_dtypes.asp#:~:text=The%20select_dtypes()%20method%20returns,the%20specified%20dtype(s).&text=Note%3A%20You%20must%20specify%20at,you%20will%20get%20an%20error.)"
      ],
      "metadata": {
        "id": "TBg-lPJgzM4Y"
      }
    },
    {
      "cell_type": "code",
      "source": [
        "# START CODE HERE\n",
        "object_columns = data.select_dtypes(include=object).columns.tolist()\n",
        "non_object_columns = data.select_dtypes(exclude= object).columns.tolist()\n",
        "# END CODE HERE\n",
        "print(f\"Object Columns: {object_columns}\\nNon Object Columns: {non_object_columns}\")"
      ],
      "metadata": {
        "id": "cIIKd53NpRKU",
        "outputId": "fc84af1a-cac1-447d-8bb6-a6b1dbf8408e",
        "colab": {
          "base_uri": "https://localhost:8080/"
        }
      },
      "execution_count": 43,
      "outputs": [
        {
          "output_type": "stream",
          "name": "stdout",
          "text": [
            "Object Columns: ['Cloud Cover', 'Season', 'Location', 'Weather Type']\n",
            "Non Object Columns: ['Temperature', 'Humidity', 'Wind Speed', 'Precipitation (%)', 'Atmospheric Pressure', 'UV Index', 'Visibility (km)']\n"
          ]
        }
      ]
    },
    {
      "cell_type": "markdown",
      "source": [
        "**TEST** (DON'T EDIT THIS CELL)"
      ],
      "metadata": {
        "id": "KYlrJpdaAyKH"
      }
    },
    {
      "cell_type": "code",
      "source": [
        "# DON'T EDIT THIS CELL\n",
        "if (object_columns == ['Cloud Cover', 'Season', 'Location', 'Weather Type'] and non_object_columns == ['Temperature', 'Humidity', 'Wind Speed', 'Precipitation (%)', 'Atmospheric Pressure', 'UV Index', 'Visibility (km)']):\n",
        "  print(f\"\\033[32mTest Passed\\033[0m\")\n",
        "else:\n",
        "  print(f\"\\033[31mTest Failed\\033[0m\")"
      ],
      "metadata": {
        "id": "z4-pWLR5_fVf",
        "outputId": "f90fdbab-49c7-4abe-8783-a0469d83fc55",
        "colab": {
          "base_uri": "https://localhost:8080/"
        }
      },
      "execution_count": 44,
      "outputs": [
        {
          "output_type": "stream",
          "name": "stdout",
          "text": [
            "\u001b[32mTest Passed\u001b[0m\n"
          ]
        }
      ]
    },
    {
      "cell_type": "markdown",
      "source": [
        "**CODE**\n",
        "\n",
        "We need to convert the object-type columns data into integral labels and scale the non-object-type columns data.\n",
        "\n",
        "HINT: Use ```ColumnTransformer()```<br>Reference: [scikit-learn](https://scikit-learn.org/stable/modules/generated/sklearn.compose.ColumnTransformer.html), [ChatGPT](https://chatgpt.com/c/7f3c1b02-5da0-4c34-bdb2-d999dccb9c2f)"
      ],
      "metadata": {
        "id": "reVHprk6z_nD"
      }
    },
    {
      "cell_type": "code",
      "source": [
        "from sklearn.preprocessing import OrdinalEncoder, StandardScaler\n",
        "from sklearn.compose import ColumnTransformer\n",
        "\n",
        "# START CODE HERE\n",
        "\n",
        "column_transformer = ColumnTransformer(\n",
        "    transformers=[\n",
        "        (\"obj\", OrdinalEncoder(), object_columns),\n",
        "        (\"num\", StandardScaler(), non_object_columns), ],\n",
        "    remainder=\"passthrough\"\n",
        ")\n",
        "\n",
        "# Fit and transform the data\n",
        "data_scaled_labeled = column_transformer.fit_transform(data)\n",
        "\n",
        "# END CODE HERE\n",
        "\n",
        "all_columns = object_columns + non_object_columns\n",
        "\n",
        "# Create the new DataFrame\n",
        "data_scaled_labeled = pd.DataFrame(data_scaled_labeled, columns=all_columns)"
      ],
      "metadata": {
        "id": "kVT5qfqarRhF"
      },
      "execution_count": 45,
      "outputs": []
    },
    {
      "cell_type": "markdown",
      "source": [
        "**TEST** (DON'T EDIT THIS CELL)"
      ],
      "metadata": {
        "id": "2AvKGjfJk3cY"
      }
    },
    {
      "cell_type": "code",
      "source": [
        "# DON'T EDIT THIS CELL\n",
        "\n",
        "data_scaled_labeled_check = pd.read_csv(\"/content/data_scaled_labeled_check.csv\")\n",
        "import numpy as np\n",
        "data_scaled_labeled_values = np.sort(data_scaled_labeled.values,axis=0)\n",
        "data_scaled_labeled_check_values = np.sort(data_scaled_labeled_check.values,axis=0)\n",
        "if np.allclose(data_scaled_labeled_values, data_scaled_labeled_check_values, equal_nan=True):\n",
        "  print(f\"\\033[32mTest Passed\\033[0m\")\n",
        "else:\n",
        "  print(f\"\\033[31mTest Failed\\033[0m\")"
      ],
      "metadata": {
        "id": "7mT4H6o5D-mN",
        "outputId": "1d57f064-4f7e-4476-9706-3e5343f21817",
        "colab": {
          "base_uri": "https://localhost:8080/"
        }
      },
      "execution_count": 46,
      "outputs": [
        {
          "output_type": "stream",
          "name": "stdout",
          "text": [
            "\u001b[32mTest Passed\u001b[0m\n"
          ]
        }
      ]
    },
    {
      "cell_type": "markdown",
      "source": [
        "## Data Splitting"
      ],
      "metadata": {
        "id": "wpIxEziM2EYr"
      }
    },
    {
      "cell_type": "markdown",
      "source": [
        "**CODE**\n",
        "\n",
        "We need to drop the Weather Type column from data_scaled_labeled to get the X and pick Weather Type column to get Y\n",
        "\n",
        "Use 90-10 split of data, i.e. 90% for training, 10% for testing"
      ],
      "metadata": {
        "id": "GKCxivFq1rjB"
      }
    },
    {
      "cell_type": "code",
      "source": [
        "X = data_scaled_labeled.drop(columns=[\"Weather Type\"])\n",
        "y = data_scaled_labeled[\"Weather Type\"]\n",
        "\n",
        "from sklearn.model_selection import train_test_split\n",
        "\n",
        "X_train, X_test, y_train, y_test = train_test_split(X,y, train_size = 0.9, random_state = 10)"
      ],
      "metadata": {
        "id": "e-gDICS-mZYG"
      },
      "execution_count": 47,
      "outputs": []
    },
    {
      "cell_type": "markdown",
      "source": [
        "**TEST** (DON'T EDIT THIS CELL)"
      ],
      "metadata": {
        "id": "WjR9MqGMpJ82"
      }
    },
    {
      "cell_type": "code",
      "source": [
        "# DON'T EDIT THIS CELL\n",
        "\n",
        "if (len(X_train)==11880 and len(X_test)==1320):\n",
        "  print(f\"\\033[32mTest Passed\\033[0m\")\n",
        "else:\n",
        "  print(f\"\\033[31mTest Failed\\033[0m\")\n",
        "\n",
        "if (len(y_train)==11880 and len(y_test)==1320):\n",
        "  print(f\"\\033[32mTest Passed\\033[0m\")\n",
        "else:\n",
        "  print(f\"\\033[31mTest Failed\\033[0m\")"
      ],
      "metadata": {
        "id": "q5ZtYcaxKzFK",
        "outputId": "877b2e91-cdaf-4eb8-b752-2e7d54c68b94",
        "colab": {
          "base_uri": "https://localhost:8080/"
        }
      },
      "execution_count": 48,
      "outputs": [
        {
          "output_type": "stream",
          "name": "stdout",
          "text": [
            "\u001b[32mTest Passed\u001b[0m\n",
            "\u001b[32mTest Passed\u001b[0m\n"
          ]
        }
      ]
    },
    {
      "cell_type": "code",
      "source": [
        "X_train.head()"
      ],
      "metadata": {
        "id": "uwYLbRwPzNBd",
        "outputId": "df257d69-60b5-4c5d-eb8d-92664e7b8e76",
        "colab": {
          "base_uri": "https://localhost:8080/",
          "height": 206
        }
      },
      "execution_count": 49,
      "outputs": [
        {
          "output_type": "execute_result",
          "data": {
            "text/plain": [
              "       Cloud Cover  Season  Location  Temperature  Humidity  Wind Speed  \\\n",
              "7017           1.0     3.0       1.0     0.567848 -1.471308    0.313790   \n",
              "12278          2.0     3.0       2.0     0.682886  0.460008   -0.916588   \n",
              "2859           3.0     3.0       1.0     0.855442 -0.778015   -0.409962   \n",
              "5495           3.0     0.0       2.0     0.797923  0.460008   -0.916588   \n",
              "8469           3.0     3.0       2.0     0.222737 -0.480889   -1.133714   \n",
              "\n",
              "       Precipitation (%)  Atmospheric Pressure  UV Index  Visibility (km)  \n",
              "7017           -0.020172             -3.562215  2.332257         0.307615  \n",
              "12278          -0.427117              0.073716 -0.520104         0.752538  \n",
              "2859           -0.990580             -0.042419 -0.260799         0.455922  \n",
              "5495           -0.834062             -0.036504 -0.260799         0.900845  \n",
              "8469           -0.333207              0.169151 -0.260799         0.159307  "
            ],
            "text/html": [
              "\n",
              "  <div id=\"df-80cefea1-a5a3-4dac-bdb3-04024a0b1fca\" class=\"colab-df-container\">\n",
              "    <div>\n",
              "<style scoped>\n",
              "    .dataframe tbody tr th:only-of-type {\n",
              "        vertical-align: middle;\n",
              "    }\n",
              "\n",
              "    .dataframe tbody tr th {\n",
              "        vertical-align: top;\n",
              "    }\n",
              "\n",
              "    .dataframe thead th {\n",
              "        text-align: right;\n",
              "    }\n",
              "</style>\n",
              "<table border=\"1\" class=\"dataframe\">\n",
              "  <thead>\n",
              "    <tr style=\"text-align: right;\">\n",
              "      <th></th>\n",
              "      <th>Cloud Cover</th>\n",
              "      <th>Season</th>\n",
              "      <th>Location</th>\n",
              "      <th>Temperature</th>\n",
              "      <th>Humidity</th>\n",
              "      <th>Wind Speed</th>\n",
              "      <th>Precipitation (%)</th>\n",
              "      <th>Atmospheric Pressure</th>\n",
              "      <th>UV Index</th>\n",
              "      <th>Visibility (km)</th>\n",
              "    </tr>\n",
              "  </thead>\n",
              "  <tbody>\n",
              "    <tr>\n",
              "      <th>7017</th>\n",
              "      <td>1.0</td>\n",
              "      <td>3.0</td>\n",
              "      <td>1.0</td>\n",
              "      <td>0.567848</td>\n",
              "      <td>-1.471308</td>\n",
              "      <td>0.313790</td>\n",
              "      <td>-0.020172</td>\n",
              "      <td>-3.562215</td>\n",
              "      <td>2.332257</td>\n",
              "      <td>0.307615</td>\n",
              "    </tr>\n",
              "    <tr>\n",
              "      <th>12278</th>\n",
              "      <td>2.0</td>\n",
              "      <td>3.0</td>\n",
              "      <td>2.0</td>\n",
              "      <td>0.682886</td>\n",
              "      <td>0.460008</td>\n",
              "      <td>-0.916588</td>\n",
              "      <td>-0.427117</td>\n",
              "      <td>0.073716</td>\n",
              "      <td>-0.520104</td>\n",
              "      <td>0.752538</td>\n",
              "    </tr>\n",
              "    <tr>\n",
              "      <th>2859</th>\n",
              "      <td>3.0</td>\n",
              "      <td>3.0</td>\n",
              "      <td>1.0</td>\n",
              "      <td>0.855442</td>\n",
              "      <td>-0.778015</td>\n",
              "      <td>-0.409962</td>\n",
              "      <td>-0.990580</td>\n",
              "      <td>-0.042419</td>\n",
              "      <td>-0.260799</td>\n",
              "      <td>0.455922</td>\n",
              "    </tr>\n",
              "    <tr>\n",
              "      <th>5495</th>\n",
              "      <td>3.0</td>\n",
              "      <td>0.0</td>\n",
              "      <td>2.0</td>\n",
              "      <td>0.797923</td>\n",
              "      <td>0.460008</td>\n",
              "      <td>-0.916588</td>\n",
              "      <td>-0.834062</td>\n",
              "      <td>-0.036504</td>\n",
              "      <td>-0.260799</td>\n",
              "      <td>0.900845</td>\n",
              "    </tr>\n",
              "    <tr>\n",
              "      <th>8469</th>\n",
              "      <td>3.0</td>\n",
              "      <td>3.0</td>\n",
              "      <td>2.0</td>\n",
              "      <td>0.222737</td>\n",
              "      <td>-0.480889</td>\n",
              "      <td>-1.133714</td>\n",
              "      <td>-0.333207</td>\n",
              "      <td>0.169151</td>\n",
              "      <td>-0.260799</td>\n",
              "      <td>0.159307</td>\n",
              "    </tr>\n",
              "  </tbody>\n",
              "</table>\n",
              "</div>\n",
              "    <div class=\"colab-df-buttons\">\n",
              "\n",
              "  <div class=\"colab-df-container\">\n",
              "    <button class=\"colab-df-convert\" onclick=\"convertToInteractive('df-80cefea1-a5a3-4dac-bdb3-04024a0b1fca')\"\n",
              "            title=\"Convert this dataframe to an interactive table.\"\n",
              "            style=\"display:none;\">\n",
              "\n",
              "  <svg xmlns=\"http://www.w3.org/2000/svg\" height=\"24px\" viewBox=\"0 -960 960 960\">\n",
              "    <path d=\"M120-120v-720h720v720H120Zm60-500h600v-160H180v160Zm220 220h160v-160H400v160Zm0 220h160v-160H400v160ZM180-400h160v-160H180v160Zm440 0h160v-160H620v160ZM180-180h160v-160H180v160Zm440 0h160v-160H620v160Z\"/>\n",
              "  </svg>\n",
              "    </button>\n",
              "\n",
              "  <style>\n",
              "    .colab-df-container {\n",
              "      display:flex;\n",
              "      gap: 12px;\n",
              "    }\n",
              "\n",
              "    .colab-df-convert {\n",
              "      background-color: #E8F0FE;\n",
              "      border: none;\n",
              "      border-radius: 50%;\n",
              "      cursor: pointer;\n",
              "      display: none;\n",
              "      fill: #1967D2;\n",
              "      height: 32px;\n",
              "      padding: 0 0 0 0;\n",
              "      width: 32px;\n",
              "    }\n",
              "\n",
              "    .colab-df-convert:hover {\n",
              "      background-color: #E2EBFA;\n",
              "      box-shadow: 0px 1px 2px rgba(60, 64, 67, 0.3), 0px 1px 3px 1px rgba(60, 64, 67, 0.15);\n",
              "      fill: #174EA6;\n",
              "    }\n",
              "\n",
              "    .colab-df-buttons div {\n",
              "      margin-bottom: 4px;\n",
              "    }\n",
              "\n",
              "    [theme=dark] .colab-df-convert {\n",
              "      background-color: #3B4455;\n",
              "      fill: #D2E3FC;\n",
              "    }\n",
              "\n",
              "    [theme=dark] .colab-df-convert:hover {\n",
              "      background-color: #434B5C;\n",
              "      box-shadow: 0px 1px 3px 1px rgba(0, 0, 0, 0.15);\n",
              "      filter: drop-shadow(0px 1px 2px rgba(0, 0, 0, 0.3));\n",
              "      fill: #FFFFFF;\n",
              "    }\n",
              "  </style>\n",
              "\n",
              "    <script>\n",
              "      const buttonEl =\n",
              "        document.querySelector('#df-80cefea1-a5a3-4dac-bdb3-04024a0b1fca button.colab-df-convert');\n",
              "      buttonEl.style.display =\n",
              "        google.colab.kernel.accessAllowed ? 'block' : 'none';\n",
              "\n",
              "      async function convertToInteractive(key) {\n",
              "        const element = document.querySelector('#df-80cefea1-a5a3-4dac-bdb3-04024a0b1fca');\n",
              "        const dataTable =\n",
              "          await google.colab.kernel.invokeFunction('convertToInteractive',\n",
              "                                                    [key], {});\n",
              "        if (!dataTable) return;\n",
              "\n",
              "        const docLinkHtml = 'Like what you see? Visit the ' +\n",
              "          '<a target=\"_blank\" href=https://colab.research.google.com/notebooks/data_table.ipynb>data table notebook</a>'\n",
              "          + ' to learn more about interactive tables.';\n",
              "        element.innerHTML = '';\n",
              "        dataTable['output_type'] = 'display_data';\n",
              "        await google.colab.output.renderOutput(dataTable, element);\n",
              "        const docLink = document.createElement('div');\n",
              "        docLink.innerHTML = docLinkHtml;\n",
              "        element.appendChild(docLink);\n",
              "      }\n",
              "    </script>\n",
              "  </div>\n",
              "\n",
              "\n",
              "<div id=\"df-344f5b28-7c4f-4441-8372-4f9d40f058e4\">\n",
              "  <button class=\"colab-df-quickchart\" onclick=\"quickchart('df-344f5b28-7c4f-4441-8372-4f9d40f058e4')\"\n",
              "            title=\"Suggest charts\"\n",
              "            style=\"display:none;\">\n",
              "\n",
              "<svg xmlns=\"http://www.w3.org/2000/svg\" height=\"24px\"viewBox=\"0 0 24 24\"\n",
              "     width=\"24px\">\n",
              "    <g>\n",
              "        <path d=\"M19 3H5c-1.1 0-2 .9-2 2v14c0 1.1.9 2 2 2h14c1.1 0 2-.9 2-2V5c0-1.1-.9-2-2-2zM9 17H7v-7h2v7zm4 0h-2V7h2v10zm4 0h-2v-4h2v4z\"/>\n",
              "    </g>\n",
              "</svg>\n",
              "  </button>\n",
              "\n",
              "<style>\n",
              "  .colab-df-quickchart {\n",
              "      --bg-color: #E8F0FE;\n",
              "      --fill-color: #1967D2;\n",
              "      --hover-bg-color: #E2EBFA;\n",
              "      --hover-fill-color: #174EA6;\n",
              "      --disabled-fill-color: #AAA;\n",
              "      --disabled-bg-color: #DDD;\n",
              "  }\n",
              "\n",
              "  [theme=dark] .colab-df-quickchart {\n",
              "      --bg-color: #3B4455;\n",
              "      --fill-color: #D2E3FC;\n",
              "      --hover-bg-color: #434B5C;\n",
              "      --hover-fill-color: #FFFFFF;\n",
              "      --disabled-bg-color: #3B4455;\n",
              "      --disabled-fill-color: #666;\n",
              "  }\n",
              "\n",
              "  .colab-df-quickchart {\n",
              "    background-color: var(--bg-color);\n",
              "    border: none;\n",
              "    border-radius: 50%;\n",
              "    cursor: pointer;\n",
              "    display: none;\n",
              "    fill: var(--fill-color);\n",
              "    height: 32px;\n",
              "    padding: 0;\n",
              "    width: 32px;\n",
              "  }\n",
              "\n",
              "  .colab-df-quickchart:hover {\n",
              "    background-color: var(--hover-bg-color);\n",
              "    box-shadow: 0 1px 2px rgba(60, 64, 67, 0.3), 0 1px 3px 1px rgba(60, 64, 67, 0.15);\n",
              "    fill: var(--button-hover-fill-color);\n",
              "  }\n",
              "\n",
              "  .colab-df-quickchart-complete:disabled,\n",
              "  .colab-df-quickchart-complete:disabled:hover {\n",
              "    background-color: var(--disabled-bg-color);\n",
              "    fill: var(--disabled-fill-color);\n",
              "    box-shadow: none;\n",
              "  }\n",
              "\n",
              "  .colab-df-spinner {\n",
              "    border: 2px solid var(--fill-color);\n",
              "    border-color: transparent;\n",
              "    border-bottom-color: var(--fill-color);\n",
              "    animation:\n",
              "      spin 1s steps(1) infinite;\n",
              "  }\n",
              "\n",
              "  @keyframes spin {\n",
              "    0% {\n",
              "      border-color: transparent;\n",
              "      border-bottom-color: var(--fill-color);\n",
              "      border-left-color: var(--fill-color);\n",
              "    }\n",
              "    20% {\n",
              "      border-color: transparent;\n",
              "      border-left-color: var(--fill-color);\n",
              "      border-top-color: var(--fill-color);\n",
              "    }\n",
              "    30% {\n",
              "      border-color: transparent;\n",
              "      border-left-color: var(--fill-color);\n",
              "      border-top-color: var(--fill-color);\n",
              "      border-right-color: var(--fill-color);\n",
              "    }\n",
              "    40% {\n",
              "      border-color: transparent;\n",
              "      border-right-color: var(--fill-color);\n",
              "      border-top-color: var(--fill-color);\n",
              "    }\n",
              "    60% {\n",
              "      border-color: transparent;\n",
              "      border-right-color: var(--fill-color);\n",
              "    }\n",
              "    80% {\n",
              "      border-color: transparent;\n",
              "      border-right-color: var(--fill-color);\n",
              "      border-bottom-color: var(--fill-color);\n",
              "    }\n",
              "    90% {\n",
              "      border-color: transparent;\n",
              "      border-bottom-color: var(--fill-color);\n",
              "    }\n",
              "  }\n",
              "</style>\n",
              "\n",
              "  <script>\n",
              "    async function quickchart(key) {\n",
              "      const quickchartButtonEl =\n",
              "        document.querySelector('#' + key + ' button');\n",
              "      quickchartButtonEl.disabled = true;  // To prevent multiple clicks.\n",
              "      quickchartButtonEl.classList.add('colab-df-spinner');\n",
              "      try {\n",
              "        const charts = await google.colab.kernel.invokeFunction(\n",
              "            'suggestCharts', [key], {});\n",
              "      } catch (error) {\n",
              "        console.error('Error during call to suggestCharts:', error);\n",
              "      }\n",
              "      quickchartButtonEl.classList.remove('colab-df-spinner');\n",
              "      quickchartButtonEl.classList.add('colab-df-quickchart-complete');\n",
              "    }\n",
              "    (() => {\n",
              "      let quickchartButtonEl =\n",
              "        document.querySelector('#df-344f5b28-7c4f-4441-8372-4f9d40f058e4 button');\n",
              "      quickchartButtonEl.style.display =\n",
              "        google.colab.kernel.accessAllowed ? 'block' : 'none';\n",
              "    })();\n",
              "  </script>\n",
              "</div>\n",
              "\n",
              "    </div>\n",
              "  </div>\n"
            ],
            "application/vnd.google.colaboratory.intrinsic+json": {
              "type": "dataframe",
              "variable_name": "X_train",
              "summary": "{\n  \"name\": \"X_train\",\n  \"rows\": 11880,\n  \"fields\": [\n    {\n      \"column\": \"Cloud Cover\",\n      \"properties\": {\n        \"dtype\": \"number\",\n        \"std\": 1.0098474223165377,\n        \"min\": 0.0,\n        \"max\": 3.0,\n        \"num_unique_values\": 4,\n        \"samples\": [\n          2.0,\n          0.0,\n          1.0\n        ],\n        \"semantic_type\": \"\",\n        \"description\": \"\"\n      }\n    },\n    {\n      \"column\": \"Season\",\n      \"properties\": {\n        \"dtype\": \"number\",\n        \"std\": 1.163576383235375,\n        \"min\": 0.0,\n        \"max\": 3.0,\n        \"num_unique_values\": 4,\n        \"samples\": [\n          0.0,\n          2.0,\n          3.0\n        ],\n        \"semantic_type\": \"\",\n        \"description\": \"\"\n      }\n    },\n    {\n      \"column\": \"Location\",\n      \"properties\": {\n        \"dtype\": \"number\",\n        \"std\": 0.7911289203457161,\n        \"min\": 0.0,\n        \"max\": 2.0,\n        \"num_unique_values\": 3,\n        \"samples\": [\n          1.0,\n          2.0,\n          0.0\n        ],\n        \"semantic_type\": \"\",\n        \"description\": \"\"\n      }\n    },\n    {\n      \"column\": \"Temperature\",\n      \"properties\": {\n        \"dtype\": \"number\",\n        \"std\": 1.0023893528945358,\n        \"min\": -2.5381581982019203,\n        \"max\": 5.169339726169491,\n        \"num_unique_values\": 126,\n        \"samples\": [\n          1.8332585350236559,\n          0.6253670692639571,\n          4.134004184089749\n        ],\n        \"semantic_type\": \"\",\n        \"description\": \"\"\n      }\n    },\n    {\n      \"column\": \"Humidity\",\n      \"properties\": {\n        \"dtype\": \"number\",\n        \"std\": 1.0004320149739299,\n        \"min\": -2.4122056105711907,\n        \"max\": 1.995156872261225,\n        \"num_unique_values\": 90,\n        \"samples\": [\n          0.014319801325307914,\n          -1.6693917089702217,\n          -1.6198707821968237\n        ],\n        \"semantic_type\": \"\",\n        \"description\": \"\"\n      }\n    },\n    {\n      \"column\": \"Wind Speed\",\n      \"properties\": {\n        \"dtype\": \"number\",\n        \"std\": 1.0016295335853305,\n        \"min\": -1.4232147188724795,\n        \"max\": 5.452430607883653,\n        \"num_unique_values\": 96,\n        \"samples\": [\n          2.34029640735193,\n          4.004926328566572,\n          5.380055393917799\n        ],\n        \"semantic_type\": \"\",\n        \"description\": \"\"\n      }\n    },\n    {\n      \"column\": \"Precipitation (%)\",\n      \"properties\": {\n        \"dtype\": \"number\",\n        \"std\": 0.9979743130664834,\n        \"min\": -1.6792561806842878,\n        \"max\": 1.7328230740721378,\n        \"num_unique_values\": 110,\n        \"samples\": [\n          0.011131706993207407,\n          -0.5523309222326244,\n          -0.3332065664225787\n        ],\n        \"semantic_type\": \"\",\n        \"description\": \"\"\n      }\n    },\n    {\n      \"column\": \"Atmospheric Pressure\",\n      \"properties\": {\n        \"dtype\": \"number\",\n        \"std\": 1.0018805494408942,\n        \"min\": -5.530052772719152,\n        \"max\": 5.198698051647312,\n        \"num_unique_values\": 5222,\n        \"samples\": [\n          0.45115389974393755,\n          0.06296286036973042,\n          -0.34619694705931225\n        ],\n        \"semantic_type\": \"\",\n        \"description\": \"\"\n      }\n    },\n    {\n      \"column\": \"UV Index\",\n      \"properties\": {\n        \"dtype\": \"number\",\n        \"std\": 0.9967269524165793,\n        \"min\": -1.0387151745577339,\n        \"max\": 2.5915625366584933,\n        \"num_unique_values\": 15,\n        \"samples\": [\n          -1.0387151745577339,\n          1.2950347826526978,\n          2.332256985857334\n        ],\n        \"semantic_type\": \"\",\n        \"description\": \"\"\n      }\n    },\n    {\n      \"column\": \"Visibility (km)\",\n      \"properties\": {\n        \"dtype\": \"number\",\n        \"std\": 1.0021712758511827,\n        \"min\": -1.6203842125853756,\n        \"max\": 4.311920127594475,\n        \"num_unique_values\": 41,\n        \"samples\": [\n          2.6805364340450164,\n          -1.323768995576383,\n          -0.2856157360449091\n        ],\n        \"semantic_type\": \"\",\n        \"description\": \"\"\n      }\n    }\n  ]\n}"
            }
          },
          "metadata": {},
          "execution_count": 49
        }
      ]
    },
    {
      "cell_type": "markdown",
      "source": [
        "# Training and Testing\n",
        "Use any suitable classifier to fit the training data and check the accuracy on test data\n",
        "\n",
        "Don't forget to import that library"
      ],
      "metadata": {
        "id": "upeKo2UVs8WH"
      }
    },
    {
      "cell_type": "markdown",
      "source": [
        "**CODE**\n",
        "\n",
        "ACCURACY should be more than 90%,\n",
        "\n",
        "1. Fit the model to X_train and y_train\n",
        "2. Find the model score on X_test and y_test"
      ],
      "metadata": {
        "id": "amPA5lMY3adM"
      }
    },
    {
      "cell_type": "code",
      "source": [
        "# START CODE HERE\n",
        "\n",
        "from sklearn.ensemble import RandomForestClassifier\n",
        "model = RandomForestClassifier(n_estimators=100, max_depth=50, random_state=50)\n",
        "model.fit(X_train, y_train)\n",
        "score = model.score(X_test, y_test)\n",
        "# END CODE HERE\n",
        "\n",
        "print(\"Accuracy:\", score*100)"
      ],
      "metadata": {
        "id": "yei6MWgW0Si9",
        "outputId": "a725ba6b-8037-4166-810a-98ee1279960b",
        "colab": {
          "base_uri": "https://localhost:8080/"
        }
      },
      "execution_count": 50,
      "outputs": [
        {
          "output_type": "stream",
          "name": "stdout",
          "text": [
            "Accuracy: 92.27272727272727\n"
          ]
        }
      ]
    },
    {
      "cell_type": "markdown",
      "source": [
        "**TEST** (DON'T EDIT THIS CELL)"
      ],
      "metadata": {
        "id": "gv0LHa5FuDSU"
      }
    },
    {
      "cell_type": "code",
      "source": [
        "# DON'T EDIT THIS CELL\n",
        "\n",
        "if (score>0.90):\n",
        "  print(f\"\\033[32mTest Passed\\033[0m\")\n",
        "else:\n",
        "  print(f\"\\033[31mTest Failed\\033[0m\")"
      ],
      "metadata": {
        "id": "WYopYL5MuAam",
        "outputId": "d6792ea1-5649-4b84-c79a-d859149b52f9",
        "colab": {
          "base_uri": "https://localhost:8080/"
        }
      },
      "execution_count": 51,
      "outputs": [
        {
          "output_type": "stream",
          "name": "stdout",
          "text": [
            "\u001b[32mTest Passed\u001b[0m\n"
          ]
        }
      ]
    },
    {
      "cell_type": "markdown",
      "source": [
        "# Predicting Output (Here, Weather Type) (Optional)"
      ],
      "metadata": {
        "id": "pOnUEVEsuQlA"
      }
    },
    {
      "cell_type": "code",
      "source": [
        "input = X_test.head()\n",
        "input"
      ],
      "metadata": {
        "id": "oAvmODuFwDNl"
      },
      "execution_count": null,
      "outputs": []
    },
    {
      "cell_type": "code",
      "source": [
        "y = model.predict(input)\n",
        "y"
      ],
      "metadata": {
        "id": "jZAkEyqUONIc"
      },
      "execution_count": null,
      "outputs": []
    },
    {
      "cell_type": "markdown",
      "source": [
        "Here, the outputs are in numbers. We can perform inverse column transfer for getiing the string values.\n"
      ],
      "metadata": {
        "id": "zuNM1UNPyY7p"
      }
    }
  ]
}