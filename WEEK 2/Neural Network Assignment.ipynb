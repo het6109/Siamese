{
 "cells": [
  {
   "cell_type": "code",
   "execution_count": null,
   "id": "5c5bb66c",
   "metadata": {},
   "outputs": [],
   "source": [
    "import torch\n",
    "import torch.nn as nn\n",
    "import torch.optim as optim\n",
    "import torch.nn.functional as F\n",
    "\n",
    "from torchvision import datasets,transforms\n",
    "\n",
    "from torch.utils.data import DataLoader,random_split"
   ]
  },
  {
   "cell_type": "code",
   "execution_count": null,
   "id": "692548ca",
   "metadata": {},
   "outputs": [],
   "source": [
    "transform = transforms.Compose([transforms.Resize((64,64)),transforms.ToTensor()])"
   ]
  },
  {
   "cell_type": "code",
   "execution_count": null,
   "id": "73205775",
   "metadata": {},
   "outputs": [],
   "source": [
    "dir='data_NN'\n",
    "dataset=datasets.ImageFolder(dir,transform=transform)"
   ]
  },
  {
   "cell_type": "code",
   "execution_count": null,
   "id": "4d1b103b",
   "metadata": {},
   "outputs": [],
   "source": [
    "tr=int(0.9*len(dataset))\n",
    "te=len(dataset)-tr_q"
   ]
  },
  {
   "cell_type": "code",
   "execution_count": null,
   "id": "170cca14",
   "metadata": {},
   "outputs": [],
   "source": [
    "train, test = random_split(dataset, [tr, te])\n",
    "train_loader = DataLoader(train,batch_size=32, shuffle=True)\n",
    "test_loader = DataLoader(test, batch_size=32, shuffle=False)"
   ]
  },
  {
   "cell_type": "code",
   "execution_count": null,
   "id": "2f259cf6",
   "metadata": {},
   "outputs": [],
   "source": [
    "class BartHomer(nn.Module):\n",
    "    def __init__(self):\n",
    "        super(BartHomer,self).__init__()\n",
    "        self.flatten = nn.Flatten()\n",
    "        self.fc1 = nn.Linear(64*64*3, 512)\n",
    "        self.fc2 = nn.Linear(512, 256)\n",
    "        self.fc3 = nn.Linear(256, 16)\n",
    "        self.fc4 = nn.Linear(16,2)\n",
    "    def forward(self,x):\n",
    "        x = self.flatten(x)\n",
    "        x = torch.relu(self.fc1(x))\n",
    "        x = torch.relu(self.fc2(x))\n",
    "        x = torch.relu(self.fc3(x))\n",
    "        x = torch.softmax(self.fc4(x), dim=1)\n",
    "        return x"
   ]
  },
  {
   "cell_type": "code",
   "execution_count": null,
   "id": "bf50db91",
   "metadata": {},
   "outputs": [],
   "source": [
    "model=BartHomer()"
   ]
  },
  {
   "cell_type": "code",
   "execution_count": null,
   "id": "93d1ae55",
   "metadata": {},
   "outputs": [],
   "source": [
    "criterion = nn.CrossEntropyLoss()\n",
    "optimizer = optim.Adam(model.parameters(), lr=0.0001)"
   ]
  },
  {
   "cell_type": "code",
   "execution_count": null,
   "id": "3fa87431",
   "metadata": {},
   "outputs": [],
   "source": [
    "epochs=12\n",
    "for epoch in range(epochs):\n",
    "    model.train()\n",
    "    running_loss = 0.0\n",
    "    for inputs, labels in train_loader:\n",
    "        optimizer.zero_grad()\n",
    "        outputs = model(inputs)\n",
    "        loss = criterion(outputs, labels)\n",
    "        loss.backward()\n",
    "        optimizer.step()\n",
    "        running_loss += loss.item() * inputs.size(0)\n",
    "    \n",
    "    epoch_loss = running_loss / len(train_loader.dataset)\n",
    "    print(f'Epoch {epoch+1}/{epochs}, Loss: {epoch_loss:.4f}')"
   ]
  },
  {
   "cell_type": "code",
   "execution_count": null,
   "id": "f31a5c1a",
   "metadata": {},
   "outputs": [],
   "source": [
    "model.eval()\n",
    "cor = 0\n",
    "total = 0\n",
    "with torch.no_grad():\n",
    "    for inputs, labels in test_loader:\n",
    "        outputs = model(inputs)\n",
    "        _, predicted = torch.max(outputs, 1)\n",
    "        total += labels.size(0)\n",
    "        cor += (predicted == labels).sum().item()\n",
    "\n",
    "accuracy = 100 * cor / total\n",
    "print(f'Accuracy on test set: {accuracy:.2f}%')"
   ]
  },
  {
   "cell_type": "code",
   "execution_count": null,
   "id": "6251a186",
   "metadata": {},
   "outputs": [],
   "source": []
  }
 ],
 "metadata": {
  "kernelspec": {
   "display_name": "Python 3 (ipykernel)",
   "language": "python",
   "name": "python3"
  },
  "language_info": {
   "codemirror_mode": {
    "name": "ipython",
    "version": 3
   },
   "file_extension": ".py",
   "mimetype": "text/x-python",
   "name": "python",
   "nbconvert_exporter": "python",
   "pygments_lexer": "ipython3",
   "version": "3.11.5"
  }
 },
 "nbformat": 4,
 "nbformat_minor": 5
}
